{
 "cells": [
  {
   "cell_type": "markdown",
   "metadata": {},
   "source": [
    "# Data Science Tools and Ecosystem"
   ]
  },
  {
   "cell_type": "markdown",
   "metadata": {},
   "source": [
    "* In this notebook, Data Science Tools and Ecosystem are summarized"
   ]
  },
  {
   "cell_type": "markdown",
   "metadata": {},
   "source": [
    "#### **Objectives:**\n",
    "* ***Know and list the most common and popular languages ​​used in data science***.\n",
    "\n",
    "* ***Know and list which are the free, paid and cloud tools used in data science.***\n",
    "\n",
    "* ***Know, list and learn about the most common development environments for data science***\n",
    "\n",
    "* ***Get an introductory knowledge of the Python programming language.***\n",
    "\n",
    "* ***Know and learn about Git and GitHub.***\n",
    "\n",
    "## Author:\n",
    "Edwin X Sánchez Martínez."
   ]
  },
  {
   "cell_type": "markdown",
   "metadata": {},
   "source": [
    "***Some the popular languajes that Data Scientist use are:***\n",
    "1. **Python**\n",
    "2. **R**\n",
    "3. **Java**\n",
    "4. **Julia**\n",
    "5. **C++**\n"
   ]
  },
  {
   "cell_type": "markdown",
   "metadata": {},
   "source": [
    "***Some of the commonly used libreries used by Data Scientists include:***\n",
    "\n",
    "1. **Pandas**\n",
    "2. **NumPy**\n",
    "3. **Matplotlib**\n",
    "4. **Seaborn**\n",
    "5. **Scikit-learn**\n",
    "6. **TensorFlow**\n",
    "7. **Keras**\n",
    "8. **PyTorch**\n",
    "9. **NLTK**\n",
    "10. **Spacy**"
   ]
  },
  {
   "cell_type": "markdown",
   "metadata": {},
   "source": [
    "\n",
    "| Data Science Tools |\n",
    "|--------|\n",
    "|  Anaconda |\n",
    "|   RStudio |\n",
    "| VsCode |\n",
    "\n"
   ]
  },
  {
   "cell_type": "markdown",
   "metadata": {},
   "source": [
    "### Below are a few examples of evaluating arithmetic expressions in Python\n"
   ]
  },
  {
   "cell_type": "code",
   "execution_count": 1,
   "metadata": {},
   "outputs": [
    {
     "data": {
      "text/plain": [
       "17"
      ]
     },
     "execution_count": 1,
     "metadata": {},
     "output_type": "execute_result"
    }
   ],
   "source": [
    "#This a simple arithmetic expression to multiply then add integers:\n",
    "(3*4) + 5"
   ]
  },
  {
   "cell_type": "code",
   "execution_count": 2,
   "metadata": {},
   "outputs": [
    {
     "data": {
      "text/plain": [
       "3.3333333333333335"
      ]
     },
     "execution_count": 2,
     "metadata": {},
     "output_type": "execute_result"
    }
   ],
   "source": [
    "# This will convert 200 minutes to hours by diving by 60\n",
    "200 / 60"
   ]
  }
 ],
 "metadata": {
  "kernelspec": {
   "display_name": "Python 3",
   "language": "python",
   "name": "python3"
  },
  "language_info": {
   "codemirror_mode": {
    "name": "ipython",
    "version": 3
   },
   "file_extension": ".py",
   "mimetype": "text/x-python",
   "name": "python",
   "nbconvert_exporter": "python",
   "pygments_lexer": "ipython3",
   "version": "3.12.3"
  }
 },
 "nbformat": 4,
 "nbformat_minor": 2
}
